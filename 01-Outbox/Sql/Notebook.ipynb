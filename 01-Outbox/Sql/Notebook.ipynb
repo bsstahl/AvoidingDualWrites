{
    "metadata": {
        "kernelspec": {
            "name": "SQL",
            "display_name": "SQL",
            "language": "sql"
        },
        "language_info": {
            "name": "sql",
            "version": ""
        }
    },
    "nbformat_minor": 2,
    "nbformat": 4,
    "cells": [
        {
            "cell_type": "markdown",
            "source": [
                "All Requests and associated messages (if any)"
            ],
            "metadata": {
                "azdata_cell_guid": "9537ce53-5d3c-4660-a2c5-d64a76bc6e60"
            }
        },
        {
            "cell_type": "code",
            "source": [
                "select * from dbo.tblRequests r\r\n",
                "left join dbo.tblMessages m \r\n",
                "on m.RequestId = r.Id"
            ],
            "metadata": {
                "azdata_cell_guid": "74ab1852-d77d-4bc6-ae54-45d49a081077",
                "tags": []
            },
            "outputs": [
                {
                    "output_type": "display_data",
                    "data": {
                        "text/html": "(0 rows affected)"
                    },
                    "metadata": {}
                },
                {
                    "output_type": "display_data",
                    "data": {
                        "text/html": "Total execution time: 00:00:00.056"
                    },
                    "metadata": {}
                },
                {
                    "output_type": "execute_result",
                    "metadata": {},
                    "execution_count": 6,
                    "data": {
                        "application/vnd.dataresource+json": {
                            "schema": {
                                "fields": [
                                    {
                                        "name": "Id"
                                    },
                                    {
                                        "name": "CustomerEmail"
                                    },
                                    {
                                        "name": "Description"
                                    },
                                    {
                                        "name": "Id"
                                    },
                                    {
                                        "name": "RequestId"
                                    },
                                    {
                                        "name": "SendToAddress"
                                    },
                                    {
                                        "name": "MessageSubject"
                                    },
                                    {
                                        "name": "MessageBody"
                                    },
                                    {
                                        "name": "Sent"
                                    }
                                ]
                            },
                            "data": []
                        },
                        "text/html": [
                            "<table>",
                            "<tr><th>Id</th><th>CustomerEmail</th><th>Description</th><th>Id</th><th>RequestId</th><th>SendToAddress</th><th>MessageSubject</th><th>MessageBody</th><th>Sent</th></tr>",
                            "</table>"
                        ]
                    }
                }
            ],
            "execution_count": 6
        },
        {
            "cell_type": "markdown",
            "source": [
                "Cleanup Database"
            ],
            "metadata": {
                "azdata_cell_guid": "c98f6b40-9e94-417a-a0a6-4d5ba0bbc7f3"
            }
        },
        {
            "cell_type": "code",
            "source": [
                "delete from dbo.tblMessages;\r\n",
                "delete from dbo.tblRequests;"
            ],
            "metadata": {
                "azdata_cell_guid": "38d423db-f682-4dde-ac0a-b3f8f5f180aa",
                "tags": [
                    "hide_input"
                ]
            },
            "outputs": [],
            "execution_count": null
        }
    ]
}